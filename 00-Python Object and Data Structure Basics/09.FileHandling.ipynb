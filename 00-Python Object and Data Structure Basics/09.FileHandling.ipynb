{
 "cells": [
  {
   "cell_type": "code",
   "execution_count": 1,
   "metadata": {
    "collapsed": false
   },
   "outputs": [
    {
     "name": "stdout",
     "output_type": "stream",
     "text": [
      "Overwriting test.txt\n"
     ]
    }
   ],
   "source": [
    "%%writefile test.txt\n",
    "Hello, this is a quick test file.\n",
    "These two sentences will be written in the test.txt file"
   ]
  },
  {
   "cell_type": "code",
   "execution_count": 2,
   "metadata": {
    "collapsed": true
   },
   "outputs": [],
   "source": [
    "logfile = open('sample_log.txt')"
   ]
  },
  {
   "cell_type": "code",
   "execution_count": 3,
   "metadata": {
    "collapsed": false
   },
   "outputs": [
    {
     "data": {
      "text/plain": [
       "'Sat Aug 04 2018 08:00:05 www1 sshd[4741]: Failed password for invalid user zabbix from 208.65.153.253 port 22 ssh2\\nSat Aug 04 2018 08:00:29 www1 sshd[4600]: Failed password for invalid user operator from 208.65.153.253 port 22 ssh2\\nSat Aug 04 2018 08:01:14 www1 sshd[4867]: Failed password for invalid user dba from 208.65.153.253 port 1895 ssh2\\nSat Aug 04 2018 08:39:04 www1 sshd[72408]: pam_unix(sshd:session): session opened for user nsharpe by (uid=0)\\nSat Aug 04 2018 08:39:04 www1 sshd[90106]: Server listening on :: port 22.\\nSat Aug 04 2018 08:39:04 www1 sshd[93022]: pam_unix(sshd:session): session opened for user djohnson by (uid=0)\\nSat Aug 04 2018 08:41:58 www1 sshd[2262]: Failed password for root from 202.179.8.245 port 22 ssh2\\nSat Aug 04 2018 08:41:59 www1 sshd[3346]: Failed password for root from 202.179.8.245 port 22 ssh2\\nSat Aug 04 2018 08:42:00 www1 sshd[2938]: Failed password for root from 202.179.8.245 port 22 ssh2\\nSat Aug 04 2018 08:42:01 www1 sshd[1320]: Failed password for root from 202.179.8.245 port 22 ssh2\\nSat Aug 04 2018 08:42:56 www1 sshd[5754]: Failed password for nobody from 202.179.8.245 port 2332 ssh2'"
      ]
     },
     "execution_count": 3,
     "metadata": {},
     "output_type": "execute_result"
    }
   ],
   "source": [
    "logfile.read()"
   ]
  },
  {
   "cell_type": "code",
   "execution_count": 4,
   "metadata": {
    "collapsed": false
   },
   "outputs": [
    {
     "data": {
      "text/plain": [
       "0"
      ]
     },
     "execution_count": 4,
     "metadata": {},
     "output_type": "execute_result"
    }
   ],
   "source": [
    "logfile.seek(0)"
   ]
  },
  {
   "cell_type": "code",
   "execution_count": 5,
   "metadata": {
    "collapsed": false
   },
   "outputs": [
    {
     "data": {
      "text/plain": [
       "['Sat Aug 04 2018 08:00:05 www1 sshd[4741]: Failed password for invalid user zabbix from 208.65.153.253 port 22 ssh2\\n',\n",
       " 'Sat Aug 04 2018 08:00:29 www1 sshd[4600]: Failed password for invalid user operator from 208.65.153.253 port 22 ssh2\\n',\n",
       " 'Sat Aug 04 2018 08:01:14 www1 sshd[4867]: Failed password for invalid user dba from 208.65.153.253 port 1895 ssh2\\n',\n",
       " 'Sat Aug 04 2018 08:39:04 www1 sshd[72408]: pam_unix(sshd:session): session opened for user nsharpe by (uid=0)\\n',\n",
       " 'Sat Aug 04 2018 08:39:04 www1 sshd[90106]: Server listening on :: port 22.\\n',\n",
       " 'Sat Aug 04 2018 08:39:04 www1 sshd[93022]: pam_unix(sshd:session): session opened for user djohnson by (uid=0)\\n',\n",
       " 'Sat Aug 04 2018 08:41:58 www1 sshd[2262]: Failed password for root from 202.179.8.245 port 22 ssh2\\n',\n",
       " 'Sat Aug 04 2018 08:41:59 www1 sshd[3346]: Failed password for root from 202.179.8.245 port 22 ssh2\\n',\n",
       " 'Sat Aug 04 2018 08:42:00 www1 sshd[2938]: Failed password for root from 202.179.8.245 port 22 ssh2\\n',\n",
       " 'Sat Aug 04 2018 08:42:01 www1 sshd[1320]: Failed password for root from 202.179.8.245 port 22 ssh2\\n',\n",
       " 'Sat Aug 04 2018 08:42:56 www1 sshd[5754]: Failed password for nobody from 202.179.8.245 port 2332 ssh2']"
      ]
     },
     "execution_count": 5,
     "metadata": {},
     "output_type": "execute_result"
    }
   ],
   "source": [
    "logfile.readlines()"
   ]
  },
  {
   "cell_type": "code",
   "execution_count": 6,
   "metadata": {
    "collapsed": false
   },
   "outputs": [
    {
     "data": {
      "text/plain": [
       "'C:\\\\Users\\\\murugan_nagarajan\\\\OneDrive - Infosys Limited\\\\Repository\\\\GitHub\\\\learn-python\\\\00-Python Object and Data Structure Basics'"
      ]
     },
     "execution_count": 6,
     "metadata": {},
     "output_type": "execute_result"
    }
   ],
   "source": [
    "pwd"
   ]
  },
  {
   "cell_type": "code",
   "execution_count": 7,
   "metadata": {
    "collapsed": false
   },
   "outputs": [],
   "source": [
    "readmefile = open('C:\\\\Users\\\\murugan_nagarajan\\\\OneDrive - Infosys Limited\\\\Repository\\\\GitHub\\\\learn-python\\\\README.md')"
   ]
  },
  {
   "cell_type": "code",
   "execution_count": 8,
   "metadata": {
    "collapsed": false
   },
   "outputs": [
    {
     "data": {
      "text/plain": [
       "['# learn-python\\n', 'Python A-Z\\n']"
      ]
     },
     "execution_count": 8,
     "metadata": {},
     "output_type": "execute_result"
    }
   ],
   "source": [
    "readmefile.readlines()"
   ]
  },
  {
   "cell_type": "code",
   "execution_count": 9,
   "metadata": {
    "collapsed": true
   },
   "outputs": [],
   "source": [
    "testfile = open('test.txt', 'a+')"
   ]
  },
  {
   "cell_type": "code",
   "execution_count": 10,
   "metadata": {
    "collapsed": false
   },
   "outputs": [
    {
     "data": {
      "text/plain": [
       "32"
      ]
     },
     "execution_count": 10,
     "metadata": {},
     "output_type": "execute_result"
    }
   ],
   "source": [
    "testfile.write('\\nA new line is written from python program.')\n",
    "testfile.write('\\nThis is the next line appended.')"
   ]
  },
  {
   "cell_type": "code",
   "execution_count": 11,
   "metadata": {
    "collapsed": false
   },
   "outputs": [
    {
     "data": {
      "text/plain": [
       "['Hello, this is a quick test file.\\n',\n",
       " 'These two sentences will be written in the test.txt file\\n',\n",
       " 'A new line is written from python program.\\n',\n",
       " 'This is the next line appended.']"
      ]
     },
     "execution_count": 11,
     "metadata": {},
     "output_type": "execute_result"
    }
   ],
   "source": [
    "testfile.seek(0)\n",
    "testfile.readlines()"
   ]
  },
  {
   "cell_type": "code",
   "execution_count": 12,
   "metadata": {
    "collapsed": true
   },
   "outputs": [],
   "source": [
    "testfile.close()\n",
    "readmefile.close()\n",
    "logfile.close()"
   ]
  },
  {
   "cell_type": "code",
   "execution_count": 13,
   "metadata": {
    "collapsed": false
   },
   "outputs": [
    {
     "ename": "ValueError",
     "evalue": "I/O operation on closed file.",
     "output_type": "error",
     "traceback": [
      "\u001b[0;31m---------------------------------------------------------------------------\u001b[0m",
      "\u001b[0;31mValueError\u001b[0m                                Traceback (most recent call last)",
      "\u001b[0;32m<ipython-input-13-0dc9135f78b0>\u001b[0m in \u001b[0;36m<module>\u001b[0;34m()\u001b[0m\n\u001b[0;32m----> 1\u001b[0;31m \u001b[0mlogfile\u001b[0m\u001b[1;33m.\u001b[0m\u001b[0mread\u001b[0m\u001b[1;33m(\u001b[0m\u001b[1;33m)\u001b[0m\u001b[1;33m\u001b[0m\u001b[0m\n\u001b[0m",
      "\u001b[0;31mValueError\u001b[0m: I/O operation on closed file."
     ]
    }
   ],
   "source": [
    "logfile.read()"
   ]
  },
  {
   "cell_type": "code",
   "execution_count": 14,
   "metadata": {
    "collapsed": false
   },
   "outputs": [],
   "source": [
    "with open('test.txt', mode = 'r') as testfile:\n",
    "    file_contents = testfile.readlines()"
   ]
  },
  {
   "cell_type": "code",
   "execution_count": 15,
   "metadata": {
    "collapsed": false
   },
   "outputs": [
    {
     "data": {
      "text/plain": [
       "['Hello, this is a quick test file.\\n',\n",
       " 'These two sentences will be written in the test.txt file\\n',\n",
       " 'A new line is written from python program.\\n',\n",
       " 'This is the next line appended.']"
      ]
     },
     "execution_count": 15,
     "metadata": {},
     "output_type": "execute_result"
    }
   ],
   "source": [
    "file_contents"
   ]
  },
  {
   "cell_type": "code",
   "execution_count": 16,
   "metadata": {
    "collapsed": true
   },
   "outputs": [],
   "source": [
    "with open('test.txt', mode = 'a') as f:\n",
    "    f.write('\\n Appended a additional line to the test file')"
   ]
  },
  {
   "cell_type": "code",
   "execution_count": 17,
   "metadata": {
    "collapsed": false
   },
   "outputs": [
    {
     "name": "stdout",
     "output_type": "stream",
     "text": [
      "['Hello, this is a quick test file.\\n', 'These two sentences will be written in the test.txt file\\n', 'A new line is written from python program.\\n', 'This is the next line appended.\\n', ' Appended a additional line to the test file']\n"
     ]
    }
   ],
   "source": [
    "with open('test.txt', mode = 'r') as testfile:\n",
    "    print(testfile.readlines())"
   ]
  },
  {
   "cell_type": "code",
   "execution_count": 18,
   "metadata": {
    "collapsed": true
   },
   "outputs": [],
   "source": [
    "with open('testfilecreated.txt', mode = 'w') as f:\n",
    "    f.write('Created a new file and written some bla bla in it by using the write mode \"W\"')"
   ]
  },
  {
   "cell_type": "code",
   "execution_count": 19,
   "metadata": {
    "collapsed": false
   },
   "outputs": [
    {
     "name": "stdout",
     "output_type": "stream",
     "text": [
      "['Created a new file and written some bla bla in it by using the write mode \"W\"']\n"
     ]
    }
   ],
   "source": [
    "with open('testfilecreated.txt', mode = 'r') as readfilecreated:\n",
    "    print(readfilecreated.readlines())    "
   ]
  },
  {
   "cell_type": "code",
   "execution_count": 20,
   "metadata": {
    "collapsed": true
   },
   "outputs": [],
   "source": [
    "with open('testfilecreated.txt', mode = 'a') as f:\n",
    "    f.write('\\nAppended some additional line to the test file created in the above steps..,')"
   ]
  },
  {
   "cell_type": "code",
   "execution_count": 21,
   "metadata": {
    "collapsed": false
   },
   "outputs": [
    {
     "name": "stdout",
     "output_type": "stream",
     "text": [
      "['Created a new file and written some bla bla in it by using the write mode \"W\"\\n', ' Appended some additional line to the test file created in the above steps..,']\n"
     ]
    }
   ],
   "source": [
    "with open('testfilecreated.txt', mode = 'r') as readfilecreated:\n",
    "    print(readfilecreated.readlines())    "
   ]
  }
 ],
 "metadata": {
  "kernelspec": {
   "display_name": "Python [conda root]",
   "language": "python",
   "name": "conda-root-py"
  },
  "language_info": {
   "codemirror_mode": {
    "name": "ipython",
    "version": 3
   },
   "file_extension": ".py",
   "mimetype": "text/x-python",
   "name": "python",
   "nbconvert_exporter": "python",
   "pygments_lexer": "ipython3",
   "version": "3.5.2"
  }
 },
 "nbformat": 4,
 "nbformat_minor": 1
}
